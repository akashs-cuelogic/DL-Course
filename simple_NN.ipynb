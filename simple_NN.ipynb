{
 "cells": [
  {
   "cell_type": "code",
   "execution_count": 66,
   "metadata": {},
   "outputs": [],
   "source": [
    "import numpy as np"
   ]
  },
  {
   "cell_type": "code",
   "execution_count": 67,
   "metadata": {},
   "outputs": [],
   "source": [
    "def nonlin(x, deriv=False):\n",
    " if(deriv == True):\n",
    "    return (x*(1-x))\n",
    " return 1/(1+np.exp(-x))"
   ]
  },
  {
   "cell_type": "code",
   "execution_count": 68,
   "metadata": {},
   "outputs": [],
   "source": [
    "# input Data\n",
    "x = np.array([[0, 0],\n",
    "              [0, 1],\n",
    "              [1, 0],\n",
    "              [1, 1]])"
   ]
  },
  {
   "cell_type": "code",
   "execution_count": 69,
   "metadata": {},
   "outputs": [],
   "source": [
    "y = np.array([[0], [1], [1], [0]])"
   ]
  },
  {
   "cell_type": "code",
   "execution_count": 70,
   "metadata": {},
   "outputs": [],
   "source": [
    "#seed\n",
    "np.random.seed(1)"
   ]
  },
  {
   "cell_type": "code",
   "execution_count": 71,
   "metadata": {},
   "outputs": [],
   "source": [
    "#synopsis\n",
    "syn0 = 2*np.random.random((2, 4)) - 1\n",
    "syn1 = 2*np.random.random((4, 1)) - 1"
   ]
  },
  {
   "cell_type": "code",
   "execution_count": 72,
   "metadata": {},
   "outputs": [
    {
     "name": "stdout",
     "output_type": "stream",
     "text": [
      "Error: 0.4995289647766772\n",
      "Error: 0.4896889242892126\n",
      "Error: 0.4403936097296033\n",
      "Error: 0.3944908828171873\n",
      "Error: 0.3365327253583863\n",
      "Error: 0.2666492736744567\n",
      "Error: 0.2045815260578229\n",
      "Error: 0.1700249261562135\n",
      "Error: 0.14662096259006752\n",
      "Error: 0.1281696473638902\n",
      "Error: 0.11241017757853396\n",
      "Error: 0.10001426456086857\n",
      "Error: 0.09090120259113954\n",
      "Error: 0.08409079715433689\n",
      "Error: 0.07878096963637553\n",
      "Error: 0.07447541420662224\n",
      "Error: 0.07087515604190385\n",
      "Error: 0.06779363267219193\n",
      "Error: 0.06510868158522944\n",
      "Error: 0.06273650304016437\n",
      "Error: 0.06061722925040543\n",
      "Error: 0.058706601315765494\n",
      "Error: 0.05697095521750334\n",
      "Error: 0.055384072120279085\n",
      "Error: 0.053925122831488065\n",
      "Error: 0.05257728009137117\n",
      "Error: 0.05132675347108075\n",
      "Error: 0.05016210055411571\n",
      "Error: 0.04907372406367299\n",
      "Error: 0.048053497403161366\n",
      "Error: 0.04709448092599248\n",
      "Error: 0.04619070362091112\n",
      "Error: 0.04533699281924613\n",
      "Error: 0.044528839727215504\n",
      "Error: 0.043762292072843906\n",
      "Error: 0.043033867543615975\n",
      "Error: 0.04234048335476583\n",
      "Error: 0.04167939846741725\n",
      "Error: 0.04104816582443338\n",
      "Error: 0.04044459259103453\n",
      "Error: 0.03986670684477569\n",
      "Error: 0.03931272950152208\n",
      "Error: 0.03878105052251889\n",
      "Error: 0.038270208644904574\n",
      "Error: 0.0377788740299444\n",
      "Error: 0.03730583334129194\n",
      "Error: 0.036849976858007935\n",
      "Error: 0.0364102872999881\n",
      "Error: 0.03598583010138513\n",
      "Error: 0.03557574491393851\n",
      "Error: 0.035179238159412006\n",
      "Error: 0.03479557648051131\n",
      "Error: 0.034424080964214\n",
      "Error: 0.034064122031536005\n",
      "Error: 0.03371511490427758\n",
      "Error: 0.0333765155729377\n",
      "Error: 0.03304781720130503\n",
      "Error: 0.03272854691267064\n",
      "Error: 0.03241826291049689\n",
      "Error: 0.03211655189300866\n",
      "Error: 0.03182302672675821\n",
      "Error: 0.03153732434894515\n",
      "Error: 0.03125910387228102\n",
      "Error: 0.03098804486961045\n",
      "Error: 0.030723845818414218\n",
      "Error: 0.030466222687824965\n",
      "Error: 0.030214907652931583\n",
      "Error: 0.029969647923002503\n",
      "Error: 0.02973020467185538\n",
      "Error: 0.029496352059988733\n",
      "Error: 0.029267876339291107\n",
      "Error: 0.02904457503219278\n",
      "Error: 0.02882625617803726\n",
      "Error: 0.028612737640248687\n",
      "Error: 0.02840384646857081\n",
      "Error: 0.02819941831126812\n",
      "Error: 0.02799929687271871\n",
      "Error: 0.027803333412308003\n",
      "Error: 0.027611386280949432\n",
      "Error: 0.027423320491933148\n",
      "Error: 0.027239007323133627\n",
      "Error: 0.027058323947899005\n",
      "Error: 0.026881153092205866\n",
      "Error: 0.026707382715896694\n",
      "Error: 0.026536905716023088\n",
      "Error: 0.026369619650502323\n",
      "Error: 0.02620542648046297\n",
      "Error: 0.026044232329801385\n",
      "Error: 0.025885947260605793\n",
      "Error: 0.02573048506322291\n",
      "Error: 0.025577763059851693\n",
      "Error: 0.02542770192064475\n",
      "Error: 0.02528022549138601\n",
      "Error: 0.025135260631892028\n",
      "Error: 0.024992737064357284\n",
      "Error: 0.024852587230926704\n",
      "Error: 0.024714746159839474\n",
      "Error: 0.02457915133954025\n",
      "Error: 0.02444574260020304\n",
      "Error: 0.024314462002156943\n",
      "Output after training: \n",
      "[[0.02966214]\n",
      " [0.97664814]\n",
      " [0.97437124]\n",
      " [0.01810851]]\n"
     ]
    }
   ],
   "source": [
    "#train\n",
    "for j in xrange (5000):\n",
    "    #layers\n",
    "    l0 = x\n",
    "    l1 = nonlin(np.dot(l0, syn0))\n",
    "    l2 = nonlin(np.dot(l1, syn1))\n",
    "    \n",
    "    #backprop\n",
    "    l2_error = y - l2\n",
    "    if (j % 50) == 0:\n",
    "        print 'Error: '+ str(np.mean(np.abs(l2_error)))\n",
    "    \n",
    "    #calculate detals\n",
    "    l2_delta = l2_error*nonlin(l2, deriv=True)\n",
    "    l1_error = l2_error.dot(syn1.T)\n",
    "    l1_delta = l1_error*nonlin(l1, deriv=True)\n",
    "    \n",
    "    #update sysnopsis\n",
    "    syn1 += l1.T.dot(l2_delta)\n",
    "    syn0 += l0.T.dot(l1_delta)\n",
    "    \n",
    "\n",
    "print 'Output after training: '\n",
    "print l2    \n",
    "    \n",
    "                "
   ]
  },
  {
   "cell_type": "code",
   "execution_count": 14,
   "metadata": {},
   "outputs": [],
   "source": [
    "#backprop\n"
   ]
  },
  {
   "cell_type": "code",
   "execution_count": null,
   "metadata": {},
   "outputs": [],
   "source": []
  }
 ],
 "metadata": {
  "kernelspec": {
   "display_name": "Python 2",
   "language": "python",
   "name": "python2"
  },
  "language_info": {
   "codemirror_mode": {
    "name": "ipython",
    "version": 2
   },
   "file_extension": ".py",
   "mimetype": "text/x-python",
   "name": "python",
   "nbconvert_exporter": "python",
   "pygments_lexer": "ipython2",
   "version": "2.7.12"
  }
 },
 "nbformat": 4,
 "nbformat_minor": 2
}
